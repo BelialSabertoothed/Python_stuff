{
 "cells": [
  {
   "cell_type": "code",
   "execution_count": 2,
   "id": "499e6cf6-4327-4fb1-a621-ef1e3ee7bea2",
   "metadata": {},
   "outputs": [
    {
     "data": {
      "text/plain": [
       "5"
      ]
     },
     "execution_count": 2,
     "metadata": {},
     "output_type": "execute_result"
    }
   ],
   "source": [
    "def count_vowels (text):\n",
    "    count = 0\n",
    "    for c in text:\n",
    "        if c in \"eaiouy\":\n",
    "            count += 1\n",
    "    return count\n",
    "\n",
    "count_vowels(\"atronomical\")"
   ]
  },
  {
   "cell_type": "code",
   "execution_count": 75,
   "id": "6fa38ec5-72b4-4140-9f83-b7466a7438ef",
   "metadata": {},
   "outputs": [
    {
     "name": "stdout",
     "output_type": "stream",
     "text": [
      "[1, 0, 0, 1, 0, 1, 0, 1, 0, 1, 0]\n"
     ]
    },
    {
     "data": {
      "text/plain": [
       "5"
      ]
     },
     "execution_count": 75,
     "metadata": {},
     "output_type": "execute_result"
    }
   ],
   "source": [
    "def count_vowels (text):\n",
    "    return len([c for c in text if c in \"aeiouy\"])\n",
    "\n",
    "def count_vowels (text):\n",
    "    tmp = [1 if c in \"aeiouy\" else 0 for c in text]\n",
    "    print(tmp)\n",
    "    return sum(tmp)\n",
    "    \n",
    "count_vowels(\"atronomical\")\n"
   ]
  },
  {
   "cell_type": "code",
   "execution_count": 22,
   "id": "76ef4edf-ce2b-40c8-b3e5-74a83b42e587",
   "metadata": {},
   "outputs": [
    {
     "data": {
      "text/plain": [
       "True"
      ]
     },
     "execution_count": 22,
     "metadata": {},
     "output_type": "execute_result"
    }
   ],
   "source": [
    "def is_prime(n):\n",
    "    if n <= 1:\n",
    "        return False\n",
    "    for i in range(2, n):\n",
    "        if (n % i) == 0:\n",
    "            return False\n",
    "    return True\n",
    "\n",
    "is_prime(3)"
   ]
  },
  {
   "cell_type": "code",
   "execution_count": 58,
   "id": "b6cb09cf-4f74-49ee-a181-a4f45e95dcc7",
   "metadata": {},
   "outputs": [],
   "source": [
    "def get_primes_1(numbers):\n",
    "    primes = []\n",
    "    for x in numbers:\n",
    "        if is_prime(x):\n",
    "            primes.append(x)\n",
    "    return primes\n",
    "    \n",
    "def get_primes_2(numbers):\n",
    "    return [x for x in numbers if is_prime(x)]\n",
    "\n",
    "def get_primes_3(numbers):\n",
    "    return list(filter(is_prime, numbers))\n",
    "\n",
    "def get_primes_4(numbers):\n",
    "    return [x for x in numbers if x>1 and all([ (x%i != 0) for i in range (2, x) ])]\n",
    "\n"
   ]
  },
  {
   "cell_type": "code",
   "execution_count": 72,
   "id": "a2261808-0420-44c3-9eb8-9b3573f91d6a",
   "metadata": {},
   "outputs": [
    {
     "name": "stdout",
     "output_type": "stream",
     "text": [
      "Výsledek funkce 1: [2, 3, 5, 7, 11, 13, 17, 19, 23, 29, 31, 37, 41, 43, 47, 53, 59, 61, 67, 71, 73, 79, 83, 89, 97]\n",
      "Výsledek funkce 2: [2, 3, 5, 7, 11, 13, 17, 19, 23, 29, 31, 37, 41, 43, 47, 53, 59, 61, 67, 71, 73, 79, 83, 89, 97]\n",
      "Výsledek funkce 3: [2, 3, 5, 7, 11, 13, 17, 19, 23, 29, 31, 37, 41, 43, 47, 53, 59, 61, 67, 71, 73, 79, 83, 89, 97]\n",
      "Výsledek funkce 4: [2, 3, 5, 7, 11, 13, 17, 19, 23, 29, 31, 37, 41, 43, 47, 53, 59, 61, 67, 71, 73, 79, 83, 89, 97]\n"
     ]
    }
   ],
   "source": [
    "numbers_to_check = list(range(100))\n",
    "\n",
    "result_1 = get_primes_1(numbers_to_check)\n",
    "result_2 = get_primes_2(numbers_to_check)\n",
    "result_3 = get_primes_3(numbers_to_check)\n",
    "result_4 = get_primes_4(numbers_to_check)\n",
    "\n",
    "print(\"Výsledek funkce 1:\", result_1)\n",
    "print(\"Výsledek funkce 2:\", result_2)\n",
    "print(\"Výsledek funkce 3:\", result_3)\n",
    "print(\"Výsledek funkce 4:\", result_4)\n"
   ]
  },
  {
   "cell_type": "code",
   "execution_count": 73,
   "id": "5fa486bf-3640-4a1c-92e5-d8681ca8554d",
   "metadata": {},
   "outputs": [
    {
     "name": "stdout",
     "output_type": "stream",
     "text": [
      "Encode: cbcbxngrcrgy\n",
      "Decode: popokatepetl\n"
     ]
    }
   ],
   "source": [
    "from string import ascii_lowercase\n",
    "\n",
    "def encode_char(c, shift):\n",
    "    index = 0\n",
    "    for i, x in enumerate(ascii_lowercase):\n",
    "        if c == x:\n",
    "            index = i\n",
    "            break\n",
    "    return ascii_lowercase[(index + shift) % len(ascii_lowercase)]\n",
    "\n",
    "def encode(msg, shift):\n",
    "    enc_msg = \"\"\n",
    "    for c in msg:\n",
    "        enc_msg += encode_char(c, shift)\n",
    "    return enc_msg\n",
    "\n",
    "def decode(msg, shift):\n",
    "    return encode(msg, -shift)\n",
    "\n",
    "original_message = \"popokatepetl\"\n",
    "shift_value = 13\n",
    "\n",
    "\n",
    "encoded_message = encode(original_message, shift_value)\n",
    "print(\"Encode:\", encoded_message)\n",
    "\n",
    "\n",
    "decoded_message = decode(encoded_message, shift_value)\n",
    "print(\"Decode:\", decoded_message)"
   ]
  },
  {
   "cell_type": "code",
   "execution_count": 9,
   "id": "ced542a5-2fbd-48c1-acc2-9c49641f606f",
   "metadata": {},
   "outputs": [],
   "source": [
    "## One eternity later"
   ]
  },
  {
   "cell_type": "code",
   "execution_count": 4,
   "id": "62c0bbd1-594c-4a70-8812-4d7f96fc1358",
   "metadata": {},
   "outputs": [],
   "source": [
    "def polynom(x, *coefs):\n",
    "    val = 0.0\n",
    "    for i, c in enumerate(coefs):\n",
    "        val += c *x**i\n",
    "    return val\n"
   ]
  },
  {
   "cell_type": "code",
   "execution_count": 5,
   "id": "a85a224a-5df8-4430-8d37-61ce7b45d84e",
   "metadata": {},
   "outputs": [
    {
     "data": {
      "text/plain": [
       "3.0"
      ]
     },
     "execution_count": 5,
     "metadata": {},
     "output_type": "execute_result"
    }
   ],
   "source": [
    "polynom(0,3,2,1)"
   ]
  },
  {
   "cell_type": "code",
   "execution_count": 6,
   "id": "79a53b1e-06d0-40fe-9d3e-d6dc414da801",
   "metadata": {},
   "outputs": [
    {
     "data": {
      "text/plain": [
       "3"
      ]
     },
     "execution_count": 6,
     "metadata": {},
     "output_type": "execute_result"
    }
   ],
   "source": [
    "def polynom(x, *coefs):\n",
    "    return sum(c * x**i for i,c in enumerate(coefs))\n",
    "\n",
    "polynom(0,3,2,1)"
   ]
  },
  {
   "cell_type": "code",
   "execution_count": 10,
   "id": "a9562c55-2c6c-48bc-a50d-e1a011f31784",
   "metadata": {},
   "outputs": [],
   "source": [
    "employees = [\n",
    "    {\"name\": \"Petr\", \"age\": 23, \"job\": \"zahradník\"},\n",
    "    {\"name\": \"Kamil\", \"age\": 34, \"job\": \"číšník\"},\n",
    "    {\"name\": \"Bedřich\", \"age\": 56, \"job\": \"kuchař\"},\n",
    "    {\"name\": \"Bohumila\", \"age\": 19, \"job\": \"brigádník\"},\n",
    "]"
   ]
  },
  {
   "cell_type": "code",
   "execution_count": 11,
   "id": "62d65122-6024-44f5-b5e8-223008a2346c",
   "metadata": {},
   "outputs": [
    {
     "data": {
      "text/plain": [
       "['Kamil', 'Bedřich']"
      ]
     },
     "execution_count": 11,
     "metadata": {},
     "output_type": "execute_result"
    }
   ],
   "source": [
    "def get_older_than(employees: list[dict], age: int) -> list[str]:\n",
    "    return [\n",
    "        employee[\"name\"]\n",
    "        for employee in employees\n",
    "        if employee[\"age\"] > age\n",
    "    ]\n",
    "get_older_than(employees, 30)"
   ]
  },
  {
   "cell_type": "code",
   "execution_count": 13,
   "id": "c740b967-bab9-40af-8fab-61f4e784414d",
   "metadata": {},
   "outputs": [
    {
     "data": {
      "text/plain": [
       "['Kamil', 'Bedřich']"
      ]
     },
     "execution_count": 13,
     "metadata": {},
     "output_type": "execute_result"
    }
   ],
   "source": [
    "def get_older_than(employees: list[dict], age: int) -> list[str]:\n",
    "    return list(\n",
    "        map(\n",
    "            lambda e: e[\"name\"],\n",
    "            filter(lambda e: e[\"age\"] > age, employees)\n",
    "        )   \n",
    "    ) \n",
    "get_older_than(employees, 30)"
   ]
  },
  {
   "cell_type": "code",
   "execution_count": null,
   "id": "442cc2ff-78d0-4457-bbbb-03f2a0ca5240",
   "metadata": {},
   "outputs": [],
   "source": [
    "commands = {}\n",
    "\n",
    "def test_cmd():\n",
    "    pass\n",
    "\n",
    "def delete_todo(id: int):\n",
    "    print(f\"deleting todo with id {id}\")\n",
    "\n",
    "def add_todo(todo: str):\n",
    "    print()\n",
    "\n",
    "def show_help():\n",
    "    for code, (_, helpstr, args) in commands.items():\n",
    "        print(f\"{code}: {helpstr}, {args}\")\n",
    "\n",
    "def read_command(instr:str) -> tuple[str, list[str]]:\n",
    "    tokens = instr.split\n",
    "    \n",
    "    code = tokens[0]\n",
    "    agrs = tokens[1:] if len(tokens) > 1 else []\n",
    "    return code, args\n",
    "\n",
    "def parse_angs(code: str, args: list[str]) -> list:\n",
    "    _,_, argtypes = commands[code]\n",
    "    if argtypes is None:\n",
    "        return\n",
    "        \n",
    "    return [conv(a) for conv, a in zip(argtypes, args)]\n",
    "\n",
    "def run_command(code: str, args):\n",
    "    fun, _, _, = commands[code]\n",
    "    if args in None:\n",
    "        fun()\n",
    "    else:\n",
    "        fun(*args)\n",
    "    \n",
    "def main_loop():\n",
    "    while True:\n",
    "        instr = input(\"> \")\n",
    "        code, args = read_command(instr)\n",
    "        print(code, args)\n",
    "        code, args = parse_args(code, args)\n",
    "        print(conv_args)\n",
    "        run_command(code, conv_args)\n",
    "\n",
    "commands = {\n",
    "    \"help\": (show_help, \"show help message\", None),\n",
    "    \"test\": (test_cmd, \"does nothing\", None)\n",
    "}\n",
    "\n",
    "main_loop()"
   ]
  },
  {
   "cell_type": "code",
   "execution_count": null,
   "id": "a6cbfe7c-1884-4c46-a323-dfda513cc119",
   "metadata": {},
   "outputs": [],
   "source": []
  }
 ],
 "metadata": {
  "kernelspec": {
   "display_name": "Python 3 (ipykernel)",
   "language": "python",
   "name": "python3"
  },
  "language_info": {
   "codemirror_mode": {
    "name": "ipython",
    "version": 3
   },
   "file_extension": ".py",
   "mimetype": "text/x-python",
   "name": "python",
   "nbconvert_exporter": "python",
   "pygments_lexer": "ipython3",
   "version": "3.12.2"
  }
 },
 "nbformat": 4,
 "nbformat_minor": 5
}
