{
 "cells": [
  {
   "cell_type": "code",
   "execution_count": 2,
   "id": "e16d7254-0dc0-49e2-8df6-901c82175213",
   "metadata": {},
   "outputs": [],
   "source": [
    "import math\n",
    "\n",
    "def profit(item):\n",
    "    cost_price = item[\"cost_price\"]\n",
    "    sell_price = item[\"sell_price\"]\n",
    "    inventory = item[\"inventory\"]\n",
    "    \n",
    "    total_profit = (sell_price - cost_price) * inventory\n",
    "    \n",
    "    if total_profit >= 0:\n",
    "        return math.ceil(total_profit)\n",
    "    else:\n",
    "        return math.floor(total_profit)"
   ]
  },
  {
   "cell_type": "code",
   "execution_count": 6,
   "id": "1f9a8d2e-01b4-4e86-b96e-37f2236595ab",
   "metadata": {},
   "outputs": [
    {
     "data": {
      "text/plain": [
       "14796"
      ]
     },
     "execution_count": 6,
     "metadata": {},
     "output_type": "execute_result"
    }
   ],
   "source": [
    "profit({\n",
    "    \"cost_price\": 32.67,\n",
    "    \"sell_price\": 45.00,\n",
    "    \"inventory\": 1200\n",
    "})"
   ]
  },
  {
   "cell_type": "code",
   "execution_count": 9,
   "id": "59dbf33f-6962-40ce-a2fb-b3de9e9e1efd",
   "metadata": {},
   "outputs": [
    {
     "data": {
      "text/plain": [
       "-767"
      ]
     },
     "execution_count": 9,
     "metadata": {},
     "output_type": "execute_result"
    }
   ],
   "source": [
    "profit({\n",
    "    \"cost_price\": 12.67,\n",
    "    \"sell_price\": 5.00,\n",
    "    \"inventory\": 100\n",
    "})"
   ]
  },
  {
   "cell_type": "code",
   "execution_count": 14,
   "id": "17c300c1-c0ce-491b-ae6a-a8cb1f96c8a1",
   "metadata": {},
   "outputs": [
    {
     "data": {
      "text/plain": [
       "1"
      ]
     },
     "execution_count": 14,
     "metadata": {},
     "output_type": "execute_result"
    }
   ],
   "source": [
    "profit({\n",
    "    \"cost_price\": 12.67,\n",
    "    \"sell_price\": 12.70,\n",
    "    \"inventory\": 7\n",
    "})"
   ]
  },
  {
   "cell_type": "code",
   "execution_count": 3,
   "id": "5d5f9b78-91eb-4571-b90e-f75c9ec3c580",
   "metadata": {},
   "outputs": [
    {
     "data": {
      "text/plain": [
       "2887606"
      ]
     },
     "execution_count": 3,
     "metadata": {},
     "output_type": "execute_result"
    }
   ],
   "source": [
    "profit({\n",
    "    \"cost_price\": 1234.67,\n",
    "    \"sell_price\": 15672.70,\n",
    "    \"inventory\": 200\n",
    "})"
   ]
  },
  {
   "cell_type": "code",
   "execution_count": null,
   "id": "fe242e05-429f-4043-83da-be1d53709463",
   "metadata": {},
   "outputs": [],
   "source": []
  }
 ],
 "metadata": {
  "kernelspec": {
   "display_name": "Python 3 (ipykernel)",
   "language": "python",
   "name": "python3"
  },
  "language_info": {
   "codemirror_mode": {
    "name": "ipython",
    "version": 3
   },
   "file_extension": ".py",
   "mimetype": "text/x-python",
   "name": "python",
   "nbconvert_exporter": "python",
   "pygments_lexer": "ipython3",
   "version": "3.12.2"
  }
 },
 "nbformat": 4,
 "nbformat_minor": 5
}
